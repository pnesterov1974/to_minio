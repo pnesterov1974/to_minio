{
 "cells": [
  {
   "cell_type": "code",
   "execution_count": 1,
   "id": "5f6a1eb7",
   "metadata": {},
   "outputs": [],
   "source": [
    "import pyarrow.parquet as pq\n",
    "import pyarrow.dataset as ds\n",
    "from pyarrow import fs\n",
    "from settings import ENDPOINT, ACCESS_KEY, SECRET_KEY, DWH_BUCKET"
   ]
  },
  {
   "cell_type": "code",
   "execution_count": 2,
   "id": "c226fbf7",
   "metadata": {},
   "outputs": [],
   "source": [
    "fs3 = fs.S3FileSystem(\n",
    "            endpoint_override=ENDPOINT,\n",
    "            access_key=ACCESS_KEY,\n",
    "            secret_key=SECRET_KEY,\n",
    "            scheme=\"http\",\n",
    "            )"
   ]
  },
  {
   "cell_type": "code",
   "execution_count": 3,
   "id": "06f65d5a",
   "metadata": {},
   "outputs": [],
   "source": [
    "source_file = 'test-1/AT_HOME.parquet'\n",
    "t1 = pq.read_table(source_file, filesystem=fs3)"
   ]
  },
  {
   "cell_type": "code",
   "execution_count": 4,
   "id": "998e25a6",
   "metadata": {},
   "outputs": [
    {
     "name": "stdout",
     "output_type": "stream",
     "text": [
      "<class 'pyarrow.lib.Table'>\n",
      "pyarrow table of 2439081 rows and 11 columns\n"
     ]
    }
   ],
   "source": [
    "print(type(t1))\n",
    "num_rows = t1.num_rows\n",
    "num_cols = t1.num_columns\n",
    "print(f'pyarrow table of {num_rows} rows and {num_cols} columns')"
   ]
  },
  {
   "cell_type": "code",
   "execution_count": 5,
   "id": "12300b69",
   "metadata": {},
   "outputs": [],
   "source": [
    "source_folder = 'test-1/AT_HOME/'  #   test-1/AT_HOME\n",
    "dataset = ds.dataset(source_folder, format=\"parquet\", filesystem=fs3\n",
    "                     #partitioning=\"hive\"\n",
    "                    )"
   ]
  },
  {
   "cell_type": "code",
   "execution_count": null,
   "id": "92eb6f28",
   "metadata": {},
   "outputs": [],
   "source": [
    "t2 = dataset.to_table()"
   ]
  },
  {
   "cell_type": "code",
   "execution_count": null,
   "id": "d846993b",
   "metadata": {},
   "outputs": [],
   "source": [
    "print(type(t2))\n",
    "num_rows = t2.num_rows\n",
    "num_cols = t2.num_columns\n",
    "print(f'pyarrow table of {num_rows} rows and {num_cols} columns')"
   ]
  },
  {
   "cell_type": "code",
   "execution_count": null,
   "id": "327d3131",
   "metadata": {},
   "outputs": [],
   "source": []
  }
 ],
 "metadata": {
  "kernelspec": {
   "display_name": "Python 3 (ipykernel)",
   "language": "python",
   "name": "python3"
  },
  "language_info": {
   "codemirror_mode": {
    "name": "ipython",
    "version": 3
   },
   "file_extension": ".py",
   "mimetype": "text/x-python",
   "name": "python",
   "nbconvert_exporter": "python",
   "pygments_lexer": "ipython3",
   "version": "3.8.10"
  }
 },
 "nbformat": 4,
 "nbformat_minor": 5
}
