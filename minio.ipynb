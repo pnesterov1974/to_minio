{
 "cells": [
  {
   "cell_type": "code",
   "execution_count": null,
   "id": "70653ee8",
   "metadata": {},
   "outputs": [],
   "source": [
    "from minio import Minio\n",
    "from pprint import pprint\n",
    "import pandas as pd\n",
    "pd.options.display.max_colwidth = 100"
   ]
  },
  {
   "cell_type": "code",
   "execution_count": null,
   "id": "37d9e0be",
   "metadata": {},
   "outputs": [],
   "source": [
    "from settings import ENDPOINT, ACCESS_KEY, SECRET_KEY, DWH_BUCKET"
   ]
  },
  {
   "cell_type": "code",
   "execution_count": null,
   "id": "436f852d",
   "metadata": {},
   "outputs": [],
   "source": [
    "client = Minio(\n",
    "    ENDPOINT,\n",
    "    access_key=ACCESS_KEY,\n",
    "    secret_key=SECRET_KEY,\n",
    "    secure=False\n",
    ")"
   ]
  },
  {
   "cell_type": "code",
   "execution_count": null,
   "id": "50281724",
   "metadata": {},
   "outputs": [],
   "source": [
    "client.list_buckets()"
   ]
  },
  {
   "cell_type": "code",
   "execution_count": null,
   "id": "52b769b0",
   "metadata": {},
   "outputs": [],
   "source": [
    "objects = client.list_objects(\"test-1\", recursive=True)"
   ]
  },
  {
   "cell_type": "code",
   "execution_count": null,
   "id": "9baaf92e",
   "metadata": {},
   "outputs": [],
   "source": [
    "l_content_type = []\n",
    "l_etag = []\n",
    "l_is_delete_marker = []\n",
    "l_is_dir = []\n",
    "l_is_latest = []\n",
    "l_last_modified = []\n",
    "l_metadata = []\n",
    "l_object_name = []\n",
    "l_owner_id = []\n",
    "l_owner_name = []\n",
    "l_size = []\n",
    "l_storage_class = []\n",
    "l_version_id = []\n",
    "\n",
    "for o in objects:\n",
    "    l_content_type.append(o.content_type)\n",
    "    l_etag.append(o.etag)\n",
    "    l_is_delete_marker.append(o.is_delete_marker)\n",
    "    l_is_dir.append(o.is_dir)\n",
    "    l_is_latest.append(o.is_latest)\n",
    "    l_last_modified.append(o.last_modified)\n",
    "    l_metadata.append(o.metadata)\n",
    "    l_object_name.append(o.object_name)\n",
    "    l_owner_id.append(o.owner_id)\n",
    "    l_owner_name.append(o.owner_name)\n",
    "    l_size.append(o.size)\n",
    "    l_storage_class.append(o.storage_class)\n",
    "    l_version_id.append(o.version_id)\n",
    "\n",
    "d_for_pd = {\n",
    "    \"content_type\":l_content_type,\n",
    "    \"etag\":l_etag,\n",
    "    \"is_delete_marker\":l_is_delete_marker,\n",
    "    \"is_dir\":l_is_dir,\n",
    "    \"is_latest\":l_is_latest,\n",
    "    \"last_modified\":l_last_modified,\n",
    "    \"metadata\":l_metadata,\n",
    "    \"object_name\":l_object_name,\n",
    "    \"size\":l_size,\n",
    "    \"storage_class\":l_storage_class,\n",
    "    \"version_id\":l_version_id,\n",
    "}\n",
    "    \n",
    "g = pd.DataFrame(d_for_pd)"
   ]
  },
  {
   "cell_type": "code",
   "execution_count": null,
   "id": "cc3711ad",
   "metadata": {},
   "outputs": [],
   "source": [
    "g.info()"
   ]
  },
  {
   "cell_type": "code",
   "execution_count": null,
   "id": "9f072b46",
   "metadata": {},
   "outputs": [],
   "source": [
    "g[['object_name', 'is_dir', 'size', 'last_modified']]"
   ]
  },
  {
   "cell_type": "code",
   "execution_count": null,
   "id": "09d3da2e",
   "metadata": {},
   "outputs": [],
   "source": [
    "g[g.is_dir==True][['object_name', 'is_dir', 'size', 'last_modified']]"
   ]
  },
  {
   "cell_type": "code",
   "execution_count": null,
   "id": "76c74ff4",
   "metadata": {},
   "outputs": [],
   "source": []
  }
 ],
 "metadata": {
  "celltoolbar": "Отсутствует",
  "kernelspec": {
   "display_name": "Python 3 (ipykernel)",
   "language": "python",
   "name": "python3"
  },
  "language_info": {
   "codemirror_mode": {
    "name": "ipython",
    "version": 3
   },
   "file_extension": ".py",
   "mimetype": "text/x-python",
   "name": "python",
   "nbconvert_exporter": "python",
   "pygments_lexer": "ipython3",
   "version": "3.8.10"
  }
 },
 "nbformat": 4,
 "nbformat_minor": 5
}
