{
 "cells": [
  {
   "cell_type": "code",
   "execution_count": null,
   "id": "7e2e15e7",
   "metadata": {},
   "outputs": [],
   "source": [
    "import os\n",
    "import pyarrow.parquet as pq"
   ]
  },
  {
   "cell_type": "code",
   "execution_count": null,
   "id": "aedb5f07",
   "metadata": {},
   "outputs": [],
   "source": [
    "from settings import DATA_DIR\n",
    "print(DATA_DIR)"
   ]
  },
  {
   "cell_type": "code",
   "execution_count": null,
   "id": "46206a8e",
   "metadata": {},
   "outputs": [],
   "source": [
    "ld = os.listdir(DATA_DIR)"
   ]
  },
  {
   "cell_type": "code",
   "execution_count": null,
   "id": "c457f948",
   "metadata": {},
   "outputs": [],
   "source": [
    "ld"
   ]
  },
  {
   "cell_type": "code",
   "execution_count": null,
   "id": "0a39ebb2",
   "metadata": {},
   "outputs": [],
   "source": [
    "f = os.path.join(DATA_DIR, ld[0])\n",
    "print(f)"
   ]
  },
  {
   "cell_type": "code",
   "execution_count": null,
   "id": "d49cc0ef",
   "metadata": {},
   "outputs": [],
   "source": [
    "#f = 'C:\\\\my_dev\\\\to_minio\\\\DATA\\\\AT_HOME.parquet'\n",
    "table = pq.read_table(f)"
   ]
  },
  {
   "cell_type": "code",
   "execution_count": null,
   "id": "3b1ab38d",
   "metadata": {},
   "outputs": [],
   "source": [
    "num_rows = table.num_rows\n",
    "num_cols = table.num_columns\n",
    "print(f'pyarrow table of {num_rows} rows and {num_cols} columns')"
   ]
  },
  {
   "cell_type": "code",
   "execution_count": null,
   "id": "229961c0",
   "metadata": {},
   "outputs": [],
   "source": [
    "schema = table.schema"
   ]
  },
  {
   "cell_type": "code",
   "execution_count": null,
   "id": "81d6d93f",
   "metadata": {},
   "outputs": [],
   "source": [
    "print(schema)"
   ]
  },
  {
   "cell_type": "code",
   "execution_count": null,
   "id": "7431a7d6",
   "metadata": {},
   "outputs": [],
   "source": []
  }
 ],
 "metadata": {
  "kernelspec": {
   "display_name": "Python 3.8.10 64-bit (system)",
   "language": "python",
   "name": "python3"
  },
  "language_info": {
   "codemirror_mode": {
    "name": "ipython",
    "version": 3
   },
   "file_extension": ".py",
   "mimetype": "text/x-python",
   "name": "python",
   "nbconvert_exporter": "python",
   "pygments_lexer": "ipython3",
   "version": "3.8.10"
  },
  "vscode": {
   "interpreter": {
    "hash": "6c8f8857f4c20f3708e4ad06f9d83a5bc56e49c7318248d7f64c982b552a5dc9"
   }
  }
 },
 "nbformat": 4,
 "nbformat_minor": 5
}
